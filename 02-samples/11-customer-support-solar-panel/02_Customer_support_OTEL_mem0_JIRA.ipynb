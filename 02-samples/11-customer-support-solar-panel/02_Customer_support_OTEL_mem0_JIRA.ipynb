{
 "cells": [
  {
   "cell_type": "markdown",
   "metadata": {},
   "source": [
    "# Solar Panels Customer Support Agent \n",
    "\n",
    "This notebook implements an enhanced example of customer support agent for solar panel products that utilizes these key features:\n",
    "\n",
    "1. **Amazon Bedrock Knowledge Base**: Provides information about solar panel models, installation, and maintenance through Retrieval Augemented Generation\n",
    "2. **Amazon Bedrock Guardrails**: Safeguards the Strands Agent and helps adhere to content policies\n",
    "3. **Amazon DynamoDB Customer Profiles**: Stores and retrieves customer information from Amazon DynamoDB\n",
    "4. **JIRA Integration**: Creates and manages support tickets in JIRA\n",
    "5. **Mem0 Memory**: Provides long-term conversation memory for personalized interactions across sessions.\n",
    "6. **Custom Support Tools**: Specialized tools for solar system performance analysis and warranty checks\n",
    "7. **Observability with Langfuse**: Strands Agents built-in support for observability with LangFuse\n",
    "\n",
    "The Strands Agent will identify the customer via their email address, retrieve their profile information from Amazon DynamoDB, create support tickets in JIRA when needed, and provide personalized support based on conversation history stored in Mem0."
   ]
  },
  {
   "cell_type": "markdown",
   "metadata": {},
   "source": [
    "## Agent Details\n",
    "<div style=\"float: left; margin-right: 20px;\">\n",
    "    \n",
    "|Feature             |Description                                        |\n",
    "|--------------------|---------------------------------------------------|\n",
    "|Native tools used   |retrieve, mem0_memory                                         |\n",
    "|Custom tools JIRA   |create_solar_support_ticket, get_customer_tickets |\n",
    "|Custom tools Profile Management   |get_customer_profile, update_customer_profile|\n",
    "|Custom tools Solar Panels   |analyze_solar_system_performance,check_warranty_status |\n",
    "|Agent Structure     |Single agent architecture                          |\n",
    "|AWS services used   |Amazon Bedrock Knowledge Base, Amazon DynamoDB, Amazon Bedrock Guardrails|\n",
    "|Integrations        | Mem0, Langfuse, Atlassian JIRA                   |\n",
    "\n",
    "</div>"
   ]
  },
  {
   "cell_type": "markdown",
   "metadata": {
    "jp-MarkdownHeadingCollapsed": true
   },
   "source": [
    "## Architecture\n",
    "\n",
    "<div style=\"text-align:left\">\n",
    "    <img src=\"images/architecture.png\" width=\"75%\" />\n",
    "</div>\n",
    "\n"
   ]
  },
  {
   "cell_type": "markdown",
   "metadata": {},
   "source": [
    "## Prerequisites\n",
    "\n",
    "- Python 3.10+\n",
    "- Anthropic Claude 3.7 enabled on Amazon Bedrock\n",
    "- solar_panel_support_config.json populated with resources from 01_solar_panel_customer_support_setup.ipynb notebook.\n",
    "\n",
    "| Component | Description |\n",
    "|-----------|-------------|\n",
    "| AWS Account | With access to Amazon Bedrock and Amazon DynamoDB |\n",
    "| Mem0 API Key | For conversation memory storage (m0-*) |\n",
    "| JIRA Account Details | For ticket creation and management  |\n",
    "| Langfuse Account Keys| Public Key and Secret key for Observability |\n",
    "| Python 3.10+ | With required packages in requirements.txt |"
   ]
  },
  {
   "cell_type": "markdown",
   "metadata": {},
   "source": [
    "## 1. Install Required Dependencies"
   ]
  },
  {
   "cell_type": "code",
   "execution_count": null,
   "metadata": {},
   "outputs": [],
   "source": [
    "# Install prerequisites\n",
    "\n",
    "!pip install -r requirements.txt\n",
    "#!pip install --upgrade strands-agents strands-agents-tools\n",
    "#!pip install --upgrade -q boto3"
   ]
  },
  {
   "cell_type": "markdown",
   "metadata": {},
   "source": [
    "## 2. Import Libraries and Setup"
   ]
  },
  {
   "cell_type": "code",
   "execution_count": null,
   "metadata": {},
   "outputs": [],
   "source": [
    "import os\n",
    "import time\n",
    "import re\n",
    "import json\n",
    "import uuid\n",
    "import boto3\n",
    "import logging\n",
    "import warnings\n",
    "from pathlib import Path\n",
    "import datetime\n",
    "import base64\n",
    "from strands import Agent, tool\n",
    "from strands.models import BedrockModel\n",
    "from strands_tools import retrieve, mem0_memory\n",
    "from langfuse import Langfuse\n",
    "from dotenv import load_dotenv\n",
    "\n",
    "\n",
    "# Import our custom tools for customer profile management with DynamoDB\n",
    "from customer_profile_tools_dynamodb import get_customer_profile, update_customer_profile\n",
    "from customer_profile_tools_dynamodb import analyze_solar_system_performance, check_warranty_status\n",
    "# Import JIRA tools\n",
    "from utils.jira_tools import create_solar_support_ticket, get_customer_tickets\n",
    "from utils.customer_dynamodb import SolarCustomerDynamoDB\n",
    "\n",
    "# Silence deprecation warnings\n",
    "warnings.filterwarnings(\"ignore\", message=\"output_format=.*\")\n",
    "warnings.filterwarnings(\"ignore\", category=DeprecationWarning)\n",
    "\n",
    "# Set up logging\n",
    "logging.basicConfig(level=logging.INFO, format='[%(asctime)s] %(levelname)s: %(message)s')"
   ]
  },
  {
   "cell_type": "markdown",
   "metadata": {},
   "source": [
    "## 3. Load Configuration\n",
    "\n",
    "We'll load the Amazon Knowledge Base ID, Guardrail ID and Amazon DynamoDB ID from our configuration file that was created during setup notebook."
   ]
  },
  {
   "cell_type": "code",
   "execution_count": null,
   "metadata": {},
   "outputs": [],
   "source": [
    "# Load configuration from file\n",
    "config_path = \"solar_panel_support_config.json\"\n",
    "\n",
    "with open(config_path, 'r') as f:\n",
    "    config = json.load(f)\n",
    "    \n",
    "print(f\"Loaded configuration from {config_path}\")\n",
    "\n",
    "# Set up environment variables and configuration\n",
    "GUARDRAIL_ID = config.get(\"guardrail\", {}).get(\"id\")\n",
    "KB_ID = config.get(\"knowledge_base\", {}).get(\"id\")\n",
    "REGION = config.get(\"region\", \"us-east-1\")\n",
    "CUSTOMER_TABLE = config.get(\"customer_table\")\n",
    "\n",
    "# Set environment variables for tools\n",
    "os.environ[\"KNOWLEDGE_BASE_ID\"] = KB_ID\n",
    "os.environ[\"AWS_REGION\"] = REGION\n",
    "\n",
    "print(f\"Guardrail ID: {GUARDRAIL_ID}\")\n",
    "print(f\"Knowledge Base ID: {KB_ID}\")\n",
    "print(f\"Region: {REGION}\")\n",
    "print(f\"Customer Table: {CUSTOMER_TABLE}\")"
   ]
  },
  {
   "cell_type": "markdown",
   "metadata": {},
   "source": [
    "## 5. Display Available Test Customers\n",
    "\n",
    "Let's list the available test customers from the Amazon DynamoDB table."
   ]
  },
  {
   "cell_type": "code",
   "execution_count": null,
   "metadata": {},
   "outputs": [],
   "source": [
    "# Query the table to get all customer profiles\n",
    "dynamodb = boto3.resource('dynamodb', region_name=REGION)\n",
    "table = dynamodb.Table(CUSTOMER_TABLE)\n",
    "response = table.scan(Limit=10)  # Get up to 10 profiles\n",
    "\n",
    "# Display available test customers\n",
    "customer_list = response.get('Items', [])\n",
    "\n",
    "print(\"Available test customers:\")\n",
    "for i, profile in enumerate(customer_list):\n",
    "    print(f\"- {profile.get('name')}: ID={profile.get('customer_id')}, Email={profile.get('email')}\")\n",
    "    \n",
    "# Show details of first customer\n",
    "if customer_list:\n",
    "    sample = customer_list[0]\n",
    "    print(f\"\\nSample profile details for {sample.get('name')}:\")\n",
    "    print(f\"Customer ID: {sample.get('customer_id')}\")\n",
    "    print(f\"Email: {sample.get('email')}\")\n",
    "    print(f\"Country: {sample.get('country')}, State: {sample.get('state')}\")\n",
    "    print(f\"Purchase history: {len(sample.get('purchase_history', []))} items\")\n",
    "\n",
    "# Initialize the DynamoDB client\n",
    "db = SolarCustomerDynamoDB(region_name=REGION)"
   ]
  },
  {
   "cell_type": "markdown",
   "metadata": {},
   "source": [
    "## 6. Define System Prompt\n",
    "\n",
    "We'll create a comprehensive system prompt that guides the agent on how to interact with customers using all the integrated tools."
   ]
  },
  {
   "cell_type": "code",
   "execution_count": null,
   "metadata": {},
   "outputs": [],
   "source": [
    "# System prompt for the solar panel agent with memory, DynamoDB and JIRA integration\n",
    "system_prompt = \"\"\"\n",
    "You are a helpful solar panel customer support assistant with access to customer profiles in DynamoDB, \n",
    "JIRA ticketing system, and memory of past conversations using mem0.\n",
    "\n",
    "When interacting with customers:\n",
    "1. First identify the customer using their email address (preferred) or customer ID\n",
    "2. Access past conversation memory using mem0_memory to provide personalized continuity\n",
    "3. Remember important details shared by the customer in previous conversations\n",
    "\n",
    "Use the knowledge base to answer questions about solar panels, including installation, maintenance, pricing, \n",
    "efficiency, and technical specifications. When a customer asks about their specific solar panels or previous \n",
    "issues, refer to:\n",
    "- Their purchase history (available in the customer profile under the 'purchase_history' field)\n",
    "- Previous conversations stored in memory\n",
    "- JIRA tickets if they exist\n",
    "\n",
    "Always personalize your responses based on all available information. Use the customer's name, mention \n",
    "specific products they own, reference their past issues, and acknowledge previous conversations when appropriate.\n",
    "Do not answer about other customers. Customer X cannot access customer Y data: respond with - This request is denied for privacy.\n",
    "\n",
    "You have specialized tools available to help customers:\n",
    "\n",
    "For Memory Management:\n",
    "1. mem0_memory: To store and retrieve conversation history\n",
    "\n",
    "For DynamoDB Access:\n",
    "2. get_customer_profile: To retrieve customer details (including their purchase history) using email or ID\n",
    "3. update_customer_profile: To update customer information\n",
    "\n",
    "For Solar Analysis:\n",
    "4. analyze_solar_system_performance: To analyze a customer's solar system performance\n",
    "5. check_warranty_status: To check warranty status for customer products\n",
    "\n",
    "For JIRA Ticketing:\n",
    "6. create_solar_support_ticket: To create new support tickets in JIRA\n",
    "   - When creating tickets, include the customer_email parameter when available\n",
    "   - Always include the customer ID for proper tracking\n",
    "7. get_customer_tickets: To retrieve customer tickets from JIRA\n",
    "\n",
    "\n",
    "For Knowledge Base Access:\n",
    "8. retrieve: To search the knowledge base for solar panel information\n",
    "\n",
    "Create JIRA tickets when customers report issues that cannot be immediately resolved. Tickets should include:\n",
    "- Descriptive title\n",
    "- Problem description\n",
    "- Customer ID\n",
    "- Relevant product information\n",
    "\n",
    "Store important information from each conversation in mem0_memory so you can refer to it in future interactions.\n",
    "Always retrieve relevant memories at the beginning of the conversation to provide continuity.\n",
    "\n",
    "Always be polite, professional, helpful, and empathetic. Provide clear and concise information.\n",
    "\"\"\""
   ]
  },
  {
   "cell_type": "markdown",
   "metadata": {},
   "source": [
    "## Create Bedrock Model with Guardrails\n",
    "\n",
    "We'll create a Bedrock model that uses Claude 3.5 Sonnet with the specified guardrail."
   ]
  },
  {
   "cell_type": "code",
   "execution_count": null,
   "metadata": {},
   "outputs": [],
   "source": [
    "# Create a Bedrock model with guardrail configuration\n",
    "bedrock_model = BedrockModel(\n",
    "    model_id=\"us.anthropic.claude-3-7-sonnet-20250219-v1:0\",\n",
    "    guardrail_id=GUARDRAIL_ID,              # Bedrock guardrail ID\n",
    "    guardrail_version=\"DRAFT\",              # Guardrail version\n",
    "    guardrail_trace=\"enabled\",              # Enable trace info for debugging\n",
    "    boto_session=boto3.Session(region_name=REGION),\n",
    "    guardrail_redact_output=True,           # Redact sensitive data in output\n",
    "    guardrail_redact_input=True             # Redact sensitive data in input\n",
    ")"
   ]
  },
  {
   "cell_type": "markdown",
   "metadata": {},
   "source": [
    "## 7. Integration Setup\n",
    "\n",
    "This section covers the setup for our three key integrations:\n",
    "1. OpenTelemetry (OTEL) for observability with Langfuse\n",
    "2. Mem0 for conversation memory\n",
    "3. JIRA for ticket management\n",
    "\n",
    "Each integration requires specific configuration and environment variables."
   ]
  },
  {
   "cell_type": "markdown",
   "metadata": {},
   "source": [
    "### 7.1 OpenTelemetry (OTEL) Setup\n",
    "\n",
    "OpenTelemetry provides standardized observability for our agent, allowing us to track interactions, performance, and errors. We'll use Langfuse as our OpenTelemetry endpoint for visualization and analysis.\n",
    "\n",
    "**Required Environment Variables:**\n",
    "- `LANGFUSE_HOST`: The Langfuse API endpoint\n",
    "- `OTEL_EXPORTER_OTLP_ENDPOINT`: Where to send OpenTelemetry data\n",
    "- `OTEL_EXPORTER_OTLP_HEADERS`: Authentication for the endpoint\n",
    "\n",
    "**How OTEL Works with Strands:**\n",
    "1. Each agent interaction generates spans and traces\n",
    "2. The trace data is sent to Langfuse via OTLP (OpenTelemetry Protocol)\n",
    "3. This enables analysis of agent performance, latency, and behavior"
   ]
  },
  {
   "cell_type": "markdown",
   "metadata": {},
   "source": [
    "**Langfuse:** [Langfuse](https://langfuse.com/docs/integrations/strands-agents) is an open-source LLM engineering platform. It provides robust tracing, debugging, evaluation, and monitoring capabilities for AI agents and LLM applications.\n",
    "\n",
    "Please add your public key and secret key from API keys section in Langfuse settings in the below cell. "
   ]
  },
  {
   "cell_type": "code",
   "execution_count": null,
   "metadata": {},
   "outputs": [],
   "source": [
    "# Get keys for your project from the project settings page: https://cloud.langfuse.com\n",
    "\n",
    "os.environ[\"LANGFUSE_PUBLIC_KEY\"] = \"pk-your-api-key\"\n",
    "os.environ[\"LANGFUSE_SECRET_KEY\"] = \"sk-your-api-key\" \n",
    "#os.environ[\"LANGFUSE_HOST\"] = \"https://cloud.langfuse.com\" # 🇪🇺 EU region (default)\n",
    "os.environ[\"LANGFUSE_HOST\"] = \"https://us.cloud.langfuse.com\" # 🇺🇸 US region\n",
    " \n",
    "# Build Basic Auth header.\n",
    "LANGFUSE_AUTH = base64.b64encode(\n",
    "    f\"{os.environ.get('LANGFUSE_PUBLIC_KEY')}:{os.environ.get('LANGFUSE_SECRET_KEY')}\".encode()\n",
    ").decode()\n",
    " \n",
    "# Configure OpenTelemetry endpoint & headers\n",
    "os.environ[\"OTEL_EXPORTER_OTLP_ENDPOINT\"] = os.environ.get(\"LANGFUSE_HOST\") + \"/api/public/otel/v1/traces\"\n",
    "os.environ[\"OTEL_EXPORTER_OTLP_HEADERS\"] = f\"Authorization=Basic {LANGFUSE_AUTH}\""
   ]
  },
  {
   "cell_type": "markdown",
   "metadata": {},
   "source": [
    "### 7.2 Mem0 Memory Integration\n",
    "\n",
    "[Mem0](https://mem0.ai/) provides long-term conversation memory for our agent, allowing it to recall previous interactions with users. This notebook uses [Strands-agents-tools](https://github.com/strands-agents/tools/tree/main/src/strands_tools) in-built [mem0-memory](https://github.com/strands-agents/tools/blob/main/src/strands_tools/mem0_memory.py) tool. \n",
    "\n",
    "**Required Environment Variables:**\n",
    "- `MEM0_API_KEY`: Your Mem0 API key for authentication\n",
    "\n",
    "**How Mem0 Works with Strands:**\n",
    "1. Important conversation details are stored in Mem0 using the `mem0_memory` tool\n",
    "2. Each memory is associated with a specific user_id ( email)\n",
    "3. The agent can retrieve past conversation memories to provide continuity"
   ]
  },
  {
   "cell_type": "code",
   "execution_count": null,
   "metadata": {},
   "outputs": [],
   "source": [
    "os.environ[\"MEM0_API_KEY\"] = \"your-api-key\""
   ]
  },
  {
   "cell_type": "markdown",
   "metadata": {},
   "source": [
    "### 7.3 JIRA Integration Setup\n",
    "\n",
    "JIRA integration allows our agent to create and manage support tickets directly. This provides a seamless way to track customer issues that require follow-up. Create a project and update the name in the .env file.\n",
    "\n",
    "**Required Environment Variables (stored in .env file):**\n",
    "- `JIRA_INSTANCE_URL`: Your JIRA instance URL (e.g., \"https://your-domain.atlassian.net/\")\n",
    "- `JIRA_USERNAME`: Your JIRA account email\n",
    "- `JIRA_API_TOKEN`: API token generated from your Atlassian account\n",
    "- `JIRA_CLOUD`: \"True\" if using Jira Cloud (vs. Server)\n",
    "- `PROJECT_NAME`: Name of your JIRA project for tickets (e.g., \"SOLAR\")\n",
    "\n",
    "**How Environment Variables Work:**\n",
    "1. These variables are stored in a `.env` file in the project root directory\n",
    "2. The `.env` file is loaded using `python-dotenv` package\n",
    "3. This keeps sensitive credentials out of code and notebooks\n",
    "4. Variables can be accessed via `os.getenv(\"VARIABLE_NAME\")`\n",
    "\n",
    "**Example .env.example file structure:**\n",
    "```\n",
    "JIRA_INSTANCE_URL=https://your-domain.atlassian.net/\n",
    "JIRA_USERNAME=your-email@example.com\n",
    "JIRA_API_TOKEN=your-api-token\n",
    "JIRA_CLOUD=True\n",
    "PROJECT_NAME=SOLAR\n",
    "```\n",
    "\n",
    "**How JIRA Integration Works:**\n",
    "1. The agent uses the `create_solar_support_ticket` tool to create tickets\n",
    "2. The `get_customer_tickets` tool retrieves existing tickets for a customer\n",
    "3. Each ticket includes customer details and issue description\n",
    "4. The JIRA API handles the actual ticket creation and management"
   ]
  },
  {
   "cell_type": "code",
   "execution_count": null,
   "metadata": {},
   "outputs": [],
   "source": [
    "\n",
    "# Load environment variables from .env file\n",
    "load_dotenv()\n",
    "\n",
    "# Print JIRA configuration (masking sensitive data)\n",
    "print(\"\\n===== JIRA Configuration =====\\n\")\n",
    "print(f\"JIRA URL: {os.getenv('JIRA_INSTANCE_URL')}\")\n",
    "print(f\"JIRA USERNAME: {os.getenv('JIRA_USERNAME')}\")\n",
    "print(f\"JIRA API TOKEN: {'*****' if os.getenv('JIRA_API_TOKEN') else 'Not set'}\")\n",
    "print(f\"JIRA CLOUD: {os.getenv('JIRA_CLOUD')}\")\n",
    "print(f\"PROJECT NAME: {os.getenv('PROJECT_NAME', 'SOLAR')}\")\n",
    "\n",
    "# Note: If you're seeing \"None\" for these values, make sure your .env file is:\n",
    "# 1. Created in the project root directory\n",
    "# 2. Contains the correct variable names and values"
   ]
  },
  {
   "cell_type": "markdown",
   "metadata": {},
   "source": [
    "## 8. Create the Support Agent\n",
    "\n",
    "Now we'll create the Strands Customer Support Agent with all the integrated tools."
   ]
  },
  {
   "cell_type": "code",
   "execution_count": null,
   "metadata": {},
   "outputs": [],
   "source": [
    "# Create the agent with all integrated tools\n",
    "support_agent = Agent(\n",
    "    system_prompt=system_prompt,\n",
    "    model=bedrock_model,\n",
    "    callback_handler=None,\n",
    "    tools=[\n",
    "        # Memory tools\n",
    "        mem0_memory,\n",
    "        # DynamoDB customer profile tools\n",
    "        get_customer_profile,\n",
    "        update_customer_profile,\n",
    "        \n",
    "        # Solar analysis tools\n",
    "        analyze_solar_system_performance,\n",
    "        check_warranty_status,\n",
    "        \n",
    "        # JIRA integration tools\n",
    "        create_solar_support_ticket,\n",
    "        get_customer_tickets,\n",
    "        \n",
    "        # Knowledge base and web search\n",
    "        retrieve\n",
    "        \n",
    "    ],\n",
    "    trace_attributes={\n",
    "        \"session.id\": \"abc-1234\", # Example session ID\n",
    "        \"user.id\": \"user-email-example@domain.com\", # Example user ID\n",
    "        \"langfuse.tags\": [\n",
    "            \"dev\",\n",
    "            \"Strands-Project-Demo\",\n",
    "            \"Observability-Tutorial\",\n",
    "        ]\n",
    "    }\n",
    "    \n",
    ")"
   ]
  },
  {
   "cell_type": "code",
   "execution_count": null,
   "metadata": {},
   "outputs": [],
   "source": [
    "# Define a test customer email - use one from the list displayed earlier\n",
    "test_customer_email = \"customer1@example.com\"\n",
    "\n",
    "# Define a function to test the agent with a specific question\n",
    "def test_agent_question(question):\n",
    "    \"\"\"Test the agent with a single question.\"\"\"\n",
    "    print(f\"\\n📝 QUESTION: {question}\\n\")\n",
    "    \n",
    "    # Build context with the customer email\n",
    "    context = f\"The customer's email is {test_customer_email}. \"\n",
    "    full_question = context + \"\\n\\n\" + question\n",
    "    \n",
    "    # Start timing for performance tracking\n",
    "    start_time = time.time()\n",
    "    \n",
    "    try:\n",
    "        # Get response from the agent\n",
    "        response = support_agent(full_question)\n",
    "        \n",
    "        # Calculate response time\n",
    "        response_time = time.time() - start_time\n",
    "        print(f\"\\n🤖 RESPONSE:\\n{response}\")\n",
    "        print(f\"\\n⏱️ Response generated in {response_time:.2f} seconds\\n\")\n",
    "        print(\"=\" * 80)\n",
    "        #return response\n",
    "    except Exception as e:\n",
    "        print(f\"\\n❌ Error: {str(e)}\")\n",
    "        print(\"The model may have encountered an issue processing your request.\")\n",
    "        return None"
   ]
  },
  {
   "cell_type": "markdown",
   "metadata": {},
   "source": [
    "## Test the Agent tools without the memory capability \n",
    "### Test 1: Customer Profile Question\n",
    "Test retrieving customer profile information"
   ]
  },
  {
   "cell_type": "code",
   "execution_count": null,
   "metadata": {},
   "outputs": [],
   "source": [
    "#Test agent retrieving customer profile information\n",
    "test_agent_question(\"What solar panels do I have installed? When did I purchase them?\")"
   ]
  },
  {
   "cell_type": "markdown",
   "metadata": {},
   "source": [
    "### Test 2: Warranty Status Check\n",
    "Test checking warranty status for customer's solar panels"
   ]
  },
  {
   "cell_type": "code",
   "execution_count": null,
   "metadata": {},
   "outputs": [],
   "source": [
    "# Test checking warranty status\n",
    "test_agent_question(\"Is my solar panel still under warranty? How long do I have left on the warranty?\")"
   ]
  },
  {
   "cell_type": "markdown",
   "metadata": {},
   "source": [
    "### Test 3: System Performance Analysis\n",
    "\n",
    "Test analyzing the solar system's performance"
   ]
  },
  {
   "cell_type": "code",
   "execution_count": null,
   "metadata": {},
   "outputs": [],
   "source": [
    "# Test performance analysis\n",
    "test_agent_question(\"How is my solar system performing? Is it producing the expected amount of energy?\")"
   ]
  },
  {
   "cell_type": "markdown",
   "metadata": {},
   "source": [
    "### Test 4: Knowledge Base Query\n",
    "Test retrieving information from the solar panel knowledge base"
   ]
  },
  {
   "cell_type": "code",
   "execution_count": null,
   "metadata": {},
   "outputs": [],
   "source": [
    "# Test knowledge base retrieval\n",
    "test_agent_question(\"How do I clean my SunPower X solar panels properly? What cleaning products should I use?\")"
   ]
  },
  {
   "cell_type": "markdown",
   "metadata": {},
   "source": [
    "### Demonstrating how to store memory using the mem0_memory personalised response."
   ]
  },
  {
   "cell_type": "code",
   "execution_count": null,
   "metadata": {},
   "outputs": [],
   "source": [
    "# First, let's store a memory about the customer's preference\n",
    "memory_content = \"The customer mentioned they prefer to do maintenance on weekends and is interested in upgrading their inverter next year.\"\n",
    "\n",
    "# Store the memory\n",
    "try:\n",
    "    result = support_agent.tool.mem0_memory(\n",
    "        action=\"store\", \n",
    "        content=memory_content, \n",
    "        user_id=test_customer_email,\n",
    "        metadata={\"timestamp\": datetime.datetime.now().isoformat()}\n",
    "    )\n",
    "    print(\"✅ Memory stored successfully\")\n",
    "except Exception as e:\n",
    "    print(f\"❌ Error storing memory: {e}\")\n",
    "    \n",
    "# Now let's test if the agent retrieves and uses this memory in its response\n",
    "test_agent_question(\"When would be a good time to schedule my annual maintenance check?\")"
   ]
  },
  {
   "cell_type": "markdown",
   "metadata": {},
   "source": [
    "## 9. Helper Functions\n",
    "\n",
    "These functions will help manage customer interactions and handle memory storage and retrieval."
   ]
  },
  {
   "cell_type": "code",
   "execution_count": null,
   "metadata": {},
   "outputs": [],
   "source": [
    "# Define common regex patterns once\n",
    "EMAIL_REGEX = r'\\b[A-Za-z0-9._%+-]+@[A-Za-z0-9.-]+\\.[A-Z|a-z]{2,}\\b'\n",
    "\n",
    "# Function to retrieve memories for a customer\n",
    "def retrieve_customer_memories(customer_email):\n",
    "    \"\"\"Retrieve conversation memories for a customer using the mem0_memory tool.\"\"\"\n",
    "    try:\n",
    "        # Use the agent to call the mem0_memory tool\n",
    "        results = support_agent.tool.mem0_memory(action=\"list\", user_id=customer_email)\n",
    "        \n",
    "        # Check if we have any memories\n",
    "        if isinstance(results, dict) and results.get('status') == 'error':\n",
    "            print(\"No previous memories found. Starting fresh conversation.\")\n",
    "            return []\n",
    "            \n",
    "        # Format the results\n",
    "        if isinstance(results, list):\n",
    "            return results\n",
    "        elif isinstance(results, dict) and 'results' in results:\n",
    "            return results['results']\n",
    "        else:\n",
    "            return []\n",
    "    except Exception as e:\n",
    "        print(f\"Error retrieving memories: {str(e)}\")\n",
    "        return []\n",
    "\n",
    "# Function to store a conversation in memory\n",
    "def store_conversation_memory(customer_email, query, response):\n",
    "    \"\"\"Store a conversation interaction in mem0.\"\"\"\n",
    "    try:\n",
    "        # Format the conversation entry\n",
    "        memory_entry = f\"User: {query}\\nAssistant: {response}\"\n",
    "        \n",
    "        # Add to mem0 using the agent's tool\n",
    "        result = support_agent.tool.mem0_memory(\n",
    "            action=\"store\", \n",
    "            content=memory_entry, \n",
    "            user_id=customer_email,\n",
    "            metadata={\"timestamp\": datetime.datetime.now().isoformat()}\n",
    "        )\n",
    "        print(\"✓ Conversation stored in memory\")\n",
    "        return True\n",
    "    except Exception as e:\n",
    "        print(f\"Error storing memory: {str(e)}\")\n",
    "        return False\n",
    "\n",
    "# Function to ask a question to the support agent\n",
    "def ask_support_question(question, customer_email):\n",
    "    \"\"\"Ask the support agent a question with customer context detection.\n",
    "\n",
    "    Args:\n",
    "        question (str): The customer support question\n",
    "        customer_email (str): The customer's email address\n",
    "\n",
    "    Returns:\n",
    "        str: Response from the agent\n",
    "    \"\"\"\n",
    "    # Build context message to include with the question\n",
    "    context = f\"The customer's email is {customer_email}. \"\n",
    "    \n",
    "    # Get customer memories and add to context\n",
    "    memories = retrieve_customer_memories(customer_email)\n",
    "    if memories:\n",
    "        memory_context = \"\\n\\nHere are relevant past conversations with this customer:\\n\"\n",
    "        \n",
    "        # Include only the most recent 3 memories for context\n",
    "        for i, memory in enumerate(memories[:3]):\n",
    "            memory_content = memory.get('memory', '')\n",
    "            memory_context += f\"Memory {i+1}: {memory_content}\\n\\n\"\n",
    "            \n",
    "        context += memory_context\n",
    "    \n",
    "    # Combine context and question\n",
    "    full_question = context + \"\\n\\n\" + question\n",
    "    \n",
    "    # Display processing message\n",
    "    print(\"\\nProcessing your question...\\n\")\n",
    "    \n",
    "    # Start timing for performance tracking\n",
    "    start_time = time.time()\n",
    "    \n",
    "    # Get response from the agent\n",
    "    try:\n",
    "        response = support_agent(full_question)\n",
    "        \n",
    "        # Store this conversation in memory\n",
    "        store_conversation_memory(customer_email, question, response)\n",
    "        \n",
    "        # Calculate response time\n",
    "        response_time = time.time() - start_time\n",
    "        print(f\"\\n(Response generated in {response_time:.2f} seconds)\\n\")\n",
    "        \n",
    "        return response\n",
    "    except Exception as e:\n",
    "        print(f\"\\nError: {str(e)}\")\n",
    "        print(\"The model may have encountered an issue processing your request.\")\n",
    "        return None"
   ]
  },
  {
   "cell_type": "markdown",
   "metadata": {},
   "source": [
    "### 10. Solar panels customer support with memory and ticket creation to answer questions based on contextual memory using mem0 storage and retrieval\n",
    "\n",
    "\n",
    "Now let's demonstrate the support agent session for a user."
   ]
  },
  {
   "cell_type": "code",
   "execution_count": null,
   "metadata": {},
   "outputs": [],
   "source": [
    "print(\"🌐 Solar Panel Customer Support Agent 🌐\\n\")\n",
    "print(\"This agent helps with solar panel customer support questions.\")\n",
    "print(\"It will identify you by your email, access your profile from DynamoDB,\")\n",
    "print(\"remember past conversations, and create JIRA tickets when needed.\\n\")\n",
    "\n",
    "\n",
    "customer_email= \"customer5@example.com\"\n",
    "\n",
    "\n",
    "query = \"My SunPower X panel is showing blinking red light and isn't producing any power. Create a support ticket for it.\"\n",
    "\n",
    "response = ask_support_question(query, customer_email)\n",
    "if response:\n",
    "    print(f\"\\n{response}\")"
   ]
  },
  {
   "cell_type": "code",
   "execution_count": null,
   "metadata": {},
   "outputs": [],
   "source": [
    "query = \"What's the status of my support tickets? Do I have any open tickets?\"\n",
    "\n",
    "response = ask_support_question(query, customer_email)\n",
    "if response:\n",
    "    print(f\"\\n{response}\")\n"
   ]
  },
  {
   "cell_type": "markdown",
   "metadata": {},
   "source": [
    "### Amazon Bedrock Guardrail Test"
   ]
  },
  {
   "cell_type": "code",
   "execution_count": null,
   "metadata": {},
   "outputs": [],
   "source": [
    "query = \"Should I spend to invest in the stock market for better returns? What stocks would you recommend for green energy investments?\"\n",
    "\n",
    "response = ask_support_question(query, customer_email)\n",
    "if response:\n",
    "    print(f\"\\n{response}\")\n"
   ]
  },
  {
   "cell_type": "markdown",
   "metadata": {},
   "source": [
    "# Congratulations! \n",
    "You created a Customer support bot with various features using Strands Agents SDK. For the Agent builder to monitor the interactions from the Customer support bot for observability, the traces are logged in Langfuse using the environment variables you have defined. When you open your Langfuse dashboard, you can see the details on the input questions, tool use and the output in the traces, token usage, latency etc. \n",
    "\n"
   ]
  },
  {
   "cell_type": "markdown",
   "metadata": {},
   "source": [
    "# JIRA board \n",
    "\n",
    "In your domain in Atlassian, under your project you will be able to see the tickets created and you can update, assign them directly in JIRA project that you created. \n",
    "\n",
    "![JIRA Tickets](images/JIRA.png)"
   ]
  },
  {
   "cell_type": "markdown",
   "metadata": {},
   "source": [
    "# Langfuse Dashboard\n",
    "\n",
    "In the Langfuse Dashboard you will be able to view the Traces in detail. The trace attributes, such as session.id, user.id, and langfuse.tags, are sent to Langfuse with the traces and help organize, filter, and analyze traces in the Langfuse UI.\n",
    "\n",
    "![Langfuse Traces](images/langfuse_traces.png)"
   ]
  },
  {
   "cell_type": "markdown",
   "metadata": {},
   "source": [
    "# Mem0 Dashboard\n",
    "\n",
    "In the mem0 Dashboard you will be able to view the conversations stored as shown in the image below.\n",
    "\n",
    "![Mem0 dashboard](images/mem0_memories.png)"
   ]
  },
  {
   "cell_type": "markdown",
   "metadata": {},
   "source": [
    "## 11. Example Questions for Each Integrated Component\n",
    "\n",
    "Below are example questions that demonstrate each of our integrated tools. You can try these or similar questions in the interactive session above."
   ]
  },
  {
   "cell_type": "markdown",
   "metadata": {},
   "source": [
    "### Profile Questions\n",
    "\n",
    "- \"Can you tell me what solar panels I have?\"\n",
    "- \"What's my purchase history?\"\n",
    "- \"When did I buy my solar system?\"\n",
    "- \"What are my contact preferences?\"\n",
    "\n",
    "### Solar System Performance Questions\n",
    "\n",
    "- \"How is my solar system performing?\"\n",
    "- \"Can you analyze my system performance for the last month?\"\n",
    "- \"What's the efficiency of my solar panels?\"\n",
    "\n",
    "### Warranty and Maintenance Questions\n",
    "\n",
    "- \"What's the warranty status on my SunPower X panels?\"\n",
    "- \"How do I submit a warranty claim?\"\n",
    "- \"When does my panel warranty expire?\"\n",
    "- \"What's covered under my solar panel warranty?\"\n",
    "\n",
    "### JIRA Ticket Questions\n",
    "\n",
    "- \"I'm having issues with my SunPower X panels with battery drainage, can you create a ticket?\"\n",
    "- \"What's the status of my support tickets?\"\n",
    "- \"I need someone to come fix my solar panel, it's showing error code E5.\"\n",
    "- \"Can you look up my previous support tickets?\"\n",
    "\n",
    "### Product Manual Questions\n",
    "\n",
    "- \"How do I clean my SunPower X panels?\"\n",
    "- \"What's the installation process for SunPower Y panels?\"\n",
    "- \"What maintenance do solar panels need?\"\n",
    "- \"What are the features of the SunPower Double-X model?\"\n",
    "\n",
    "### Memory-Based Personalization Questions\n",
    "\n",
    "- \"What did we discuss last time?\"\n",
    "- \"You mentioned something about panel cleaning before, what was that?\"\n",
    "- \"What recommendation did you give me for improving efficiency?\"\n"
   ]
  },
  {
   "cell_type": "markdown",
   "metadata": {},
   "source": [
    "## 12. Clean up\n",
    "\n",
    "When you're done with this notebook, you can clean up the resources."
   ]
  },
  {
   "cell_type": "code",
   "execution_count": null,
   "metadata": {},
   "outputs": [],
   "source": [
    "# Clean up resources when you're done with experimenting this example\n",
    "\n",
    "\n",
    "# Import needed utilities\n",
    "import boto3\n",
    "from utils.customer_dynamodb import SolarCustomerDynamoDB\n",
    "from utils.knowledge_base import BedrockKnowledgeBase\n",
    "import sys\n",
    "sys.path.append('utils')\n",
    "\n",
    "print(\"📋 Starting cleanup of resources...\")\n",
    "\n",
    "# Initialize resources\n",
    "db = SolarCustomerDynamoDB(region_name=REGION)\n",
    "bedrock_client = boto3.client('bedrock', region_name=REGION)\n",
    "s3_client = boto3.client('s3', region_name=REGION)\n",
    "\n",
    "# 1. Delete DynamoDB table\n",
    "if CUSTOMER_TABLE:\n",
    "    print(f\"🗃️ Cleaning up DynamoDB table {CUSTOMER_TABLE}...\")\n",
    "    \n",
    "    # First verify table actually exists\n",
    "    if db.table_exists(CUSTOMER_TABLE):\n",
    "        result = db.delete_table(CUSTOMER_TABLE)\n",
    "        if result:\n",
    "            print(f\"✅ DynamoDB table and SSM parameter cleaned up successfully\")\n",
    "        else:\n",
    "            print(f\"❌ Failed to clean up DynamoDB table\")\n",
    "    else:\n",
    "        print(f\"ℹ️ Table {CUSTOMER_TABLE} doesn't exist, cleaning up SSM parameter only\")\n",
    "        \n",
    "        # Clean up SSM parameter even if table doesn't exist\n",
    "        try:\n",
    "            ssm_client = boto3.client('ssm', region_name=REGION)\n",
    "            ssm_client.delete_parameter(Name='solar-customer-table-name')\n",
    "            print(\"✅ Cleaned up SSM parameter\")\n",
    "        except Exception as e:\n",
    "            if 'ParameterNotFound' in str(e):\n",
    "                print(\"ℹ️ SSM parameter doesn't exist\")\n",
    "            else:\n",
    "                print(f\"❌ Error cleaning up SSM parameter: {e}\")\n",
    "\n",
    "# 2. Delete Knowledge Base and related resources\n",
    "if KB_ID:\n",
    "    print(f\"📚 Cleaning up Knowledge Base {KB_ID}...\")\n",
    "    # Create boto3 client to delete KB directly\n",
    "    bedrock_agent_client = boto3.client('bedrock-agent', region_name=REGION)\n",
    "\n",
    "    try:\n",
    "        # List and delete all data sources first\n",
    "        data_sources =bedrock_agent_client.list_data_sources(knowledgeBaseId=KB_ID)[\"dataSourceSummaries\"]\n",
    "        print(f\"Found {len(data_sources)} data sources to delete\")\n",
    "\n",
    "        for ds in data_sources:\n",
    "            print(f\"Deleting data source: {ds['dataSourceId']}\")\n",
    "            bedrock_agent_client.delete_data_source(\n",
    "                dataSourceId=ds[\"dataSourceId\"],\n",
    "                knowledgeBaseId=KB_ID\n",
    "            )\n",
    "\n",
    "        # Then delete the knowledge base\n",
    "        print(f\"Deleting knowledge base with ID: {KB_ID}\")\n",
    "        bedrock_agent_client.delete_knowledge_base(knowledgeBaseId=KB_ID)\n",
    "        print(f\"✅ Successfully deleted knowledge base\")\n",
    "    except Exception as e:\n",
    "        print(f\"Error during deletion: {str(e)}\")\n",
    "\n",
    "# 3. Delete Guardrail\n",
    "if GUARDRAIL_ID:\n",
    "    print(f\"🛡️ Cleaning up Guardrail {GUARDRAIL_ID}...\")\n",
    "    try:\n",
    "        bedrock_client.delete_guardrail(guardrailIdentifier=GUARDRAIL_ID)\n",
    "        print(f\"✅ Guardrail deletion initiated. This may take several minutes to complete.\")\n",
    "    except Exception as e:\n",
    "        print(f\"❌ Error cleaning up Guardrail: {e}\")\n",
    "\n",
    "print(\"🧹 Cleanup process completed\")\n"
   ]
  },
  {
   "cell_type": "markdown",
   "metadata": {},
   "source": [
    "## Summary and Conclusion\n",
    "\n",
    "This notebook demonstrated how to build an example of a comprehensive solar panel customer support agent that integrates multiple platforms and services:\n",
    "\n",
    "### Key Components Implemented\n",
    "\n",
    "1. **Amazon Bedrock Knowledge Base Integration**\n",
    "   - Provides solar panel product information, installation guides, and maintenance procedures\n",
    "   - Enables context-aware responses using domain-specific knowledge\n",
    "\n",
    "2. **Amazon Bedrock Guardrails**\n",
    "   - Safe and appropriate responses\n",
    "   - Prevents prohibited content like investment advice\n",
    "   - Maintains professional customer interactions\n",
    "\n",
    "3. **Amazon DynamoDB Customer Profiles**\n",
    "   - Stores and retrieves customer information\n",
    "   - Enables personalized support based on purchase history\n",
    "   - Maintains customer preferences and details\n",
    "\n",
    "4. **JIRA Integration**\n",
    "   - Creates support tickets for issues requiring follow-up\n",
    "   - Retrieves existing ticket information\n",
    "   - Provides structured tracking of customer issues\n",
    "\n",
    "5. **Mem0 Memory**\n",
    "   - Provides conversation history and context\n",
    "   - Enables personalized responses based on past interactions\n",
    "   - Improves customer experience through continuity\n",
    "\n",
    "6. **OpenTelemetry Observability**\n",
    "   - Track and monitor Strands Agent performance and interactions\n",
    "   - Provides insights into agent behavior and response quality\n",
    "   - Enables observability for continuous improvement through monitoring\n",
    "\n",
    "### Use Cases Demonstrated\n",
    "\n",
    "- Customer profile retrieval\n",
    "- Warranty status checking\n",
    "- Solar system performance analysis\n",
    "- Product Information and support queries\n",
    "- Support ticket creation and information\n",
    "- Previous conversations recall\n",
    "- Guardrail activation\n",
    "\n",
    "## Next Steps\n",
    "\n",
    "To extend this example you can augment the current agent's capabilities with web search to include real time information about solar panel rules and regulations into the Strands Agent.\n",
    "\n",
    "\n",
    "\n"
   ]
  }
 ],
 "metadata": {
  "kernelspec": {
   "display_name": "Python 3 (ipykernel)",
   "language": "python",
   "name": "python3"
  },
  "language_info": {
   "codemirror_mode": {
    "name": "ipython",
    "version": 3
   },
   "file_extension": ".py",
   "mimetype": "text/x-python",
   "name": "python",
   "nbconvert_exporter": "python",
   "pygments_lexer": "ipython3",
   "version": "3.11.11"
  }
 },
 "nbformat": 4,
 "nbformat_minor": 4
}
