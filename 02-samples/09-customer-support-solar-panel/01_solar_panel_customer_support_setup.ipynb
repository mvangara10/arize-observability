{
 "cells": [
  {
   "cell_type": "markdown",
   "metadata": {},
   "source": [
    "# Solar Panel Customer Support - Setup\n",
    "\n",
    "In this notebook, we'll set up Amazon resources for our Solar Panel Customer Support Agent. We'll be:\n",
    "\n",
    "1. Creating [Amazon Bedrock Knowledge Base](https://aws.amazon.com/bedrock/knowledge-bases/) for solar panel installation and maintenance information from text files.\n",
    "2. Creating [Amazon Bedrock Guardrails](https://aws.amazon.com/bedrock/guardrails/) to safeguard customer interactions.\n",
    "3. Creating [Amazon DynamoDb](https://aws.amazon.com/dynamodb/) for storing customer profiles and data.\n",
    " \n",
    "\n",
    "These components will later be integrated into our Solar Panel Customer Support agent."
   ]
  },
  {
   "cell_type": "markdown",
   "metadata": {},
   "source": [
    "##  Import Required Libraries"
   ]
  },
  {
   "cell_type": "code",
   "execution_count": null,
   "metadata": {},
   "outputs": [],
   "source": [
    "# Install prerequisites\n",
    "!pip install --upgrade -q boto3\n",
    "%pip install -qr requirements.txt"
   ]
  },
  {
   "cell_type": "code",
   "execution_count": null,
   "metadata": {},
   "outputs": [],
   "source": [
    "import os\n",
    "import time\n",
    "import boto3\n",
    "import logging\n",
    "import pprint\n",
    "import json\n",
    "import uuid\n",
    "import requests\n",
    "\n",
    "# Set up logging\n",
    "logging.basicConfig(format='[%(asctime)s] p%(process)s {%(filename)s:%(lineno)d} %(levelname)s - %(message)s', level=logging.INFO)\n",
    "logger = logging.getLogger(__name__)"
   ]
  },
  {
   "cell_type": "markdown",
   "metadata": {},
   "source": [
    "## Set up AWS Clients\n",
    "Please set up your aws credentials in your enviroment."
   ]
  },
  {
   "cell_type": "code",
   "execution_count": null,
   "metadata": {},
   "outputs": [],
   "source": [
    "# Set up AWS clients\n",
    "session = boto3.Session()\n",
    "region = session.region_name\n",
    "sts_client = session.client('sts')\n",
    "s3_client = session.client('s3')\n",
    "bedrock_client = session.client('bedrock')\n",
    "account_id = sts_client.get_caller_identity()[\"Account\"]\n",
    "account_id_suffix = [:3]\n",
    "#suffix = f\"{region}-{account_id_suffix}\"\n",
    "bedrock_agent_runtime_client = boto3.client('bedrock-agent-runtime')\n",
    "bedrock_runtime = boto3.client('bedrock-runtime')\n",
    "\n",
    "# Display region and account information\n",
    "print(f\"Region: {region}\")\n",
    "#print(f\"Account ID: {account_id}\")"
   ]
  },
  {
   "cell_type": "code",
   "execution_count": null,
   "metadata": {},
   "outputs": [],
   "source": [
    "# Get the current timestamp\n",
    "current_time = time.time()\n",
    "# Format the timestamp as a string\n",
    "timestamp_str = time.strftime(\"%Y%m%d%H%M%S\", time.localtime(current_time))[-7:]\n",
    "# Create the suffix using the timestamp\n",
    "suffix = f\"{timestamp_str}\""
   ]
  },
  {
   "cell_type": "markdown",
   "metadata": {},
   "source": [
    "## Amazon bedrock Knowledge Base for Solar Panel Manuals\n",
    "\n",
    "Download Amazon Bedrock Knowledge Bases helper"
   ]
  },
  {
   "cell_type": "code",
   "execution_count": null,
   "metadata": {},
   "outputs": [],
   "source": [
    "url = \"https://raw.githubusercontent.com/aws-samples/amazon-bedrock-samples/main/rag/knowledge-bases/features-examples/utils/knowledge_base.py\"\n",
    "target_path = \"utils/knowledge_base.py\"\n",
    "response = requests.get(url)\n",
    "with open(target_path, \"w\") as f:\n",
    "    f.write(response.text)\n",
    "print(f\"Downloaded Knowledge Bases utils to {target_path}\")"
   ]
  },
  {
   "cell_type": "markdown",
   "metadata": {},
   "source": [
    "## Create Amazon Bedrock Knowledge Base\n",
    "In this section we will configure the Amazon Bedrock Knowledge Base containing the solar panel manuals for installation and maintainence. We will be using Amazon Opensearch Serverless Service as the underlying vector store and Amazon S3 as the data source containing the files."
   ]
  },
  {
   "cell_type": "code",
   "execution_count": null,
   "metadata": {},
   "outputs": [],
   "source": [
    "from utils.knowledge_base import BedrockKnowledgeBase\n",
    "\n",
    "knowledge_base_name = f\"solar-panel-manuals-knowledge-base-{suffix}\"\n",
    "knowledge_base_description = \"Solar Panels Customer support Manuals.\"\n",
    "foundation_model = \"anthropic.claude-3-sonnet-20240229-v1:0\""
   ]
  },
  {
   "cell_type": "markdown",
   "metadata": {},
   "source": [
    "For this notebook, we'll create a Knowledge Base with an Amazon S3 data source."
   ]
  },
  {
   "cell_type": "code",
   "execution_count": null,
   "metadata": {},
   "outputs": [],
   "source": [
    "data_bucket_name = f'solar-panel-support-agent-{suffix}-bucket' # replace it with your first bucket name.\n",
    "data_sources=[{\"type\": \"S3\", \"bucket_name\": data_bucket_name}]"
   ]
  },
  {
   "cell_type": "markdown",
   "metadata": {},
   "source": [
    "### Create the Amazon S3 bucket and upload the sample documents"
   ]
  },
  {
   "cell_type": "code",
   "execution_count": null,
   "metadata": {},
   "outputs": [],
   "source": [
    "import botocore\n",
    "import os\n",
    "\n",
    "def create_s3_bucket(bucket_name, region=None):\n",
    "    s3 = boto3.client('s3', region_name=region)\n",
    "\n",
    "    try:\n",
    "        if region is None or region == 'us-east-1':\n",
    "            s3.create_bucket(Bucket=bucket_name)\n",
    "        else:\n",
    "            s3.create_bucket(\n",
    "                Bucket=bucket_name,\n",
    "                CreateBucketConfiguration={'LocationConstraint': region}\n",
    "            )\n",
    "        print(f\"✅ Bucket '{bucket_name}' created successfully.\")\n",
    "    except botocore.exceptions.ClientError as e:\n",
    "        print(f\"❌ Failed to create bucket: {e.response['Error']['Message']}\")\n",
    "\n",
    "create_s3_bucket(data_bucket_name, region)\n"
   ]
  },
  {
   "cell_type": "code",
   "execution_count": null,
   "metadata": {},
   "outputs": [],
   "source": [
    "def upload_directory(path, bucket_name):\n",
    "        for root,dirs,files in os.walk(path):\n",
    "            for file in files:\n",
    "                file_to_upload = os.path.join(root,file)\n",
    "                print(f\"uploading file {file_to_upload} to {bucket_name}\")\n",
    "                s3_client.upload_file(file_to_upload,bucket_name,file)"
   ]
  },
  {
   "cell_type": "code",
   "execution_count": null,
   "metadata": {},
   "outputs": [],
   "source": [
    "upload_directory(\"./data\", data_bucket_name)"
   ]
  },
  {
   "cell_type": "markdown",
   "metadata": {},
   "source": [
    "### Create the Knowledge Base\n",
    "We are now going to create the Knowledge Base using the abstraction located in the helper function we previously downloaded."
   ]
  },
  {
   "cell_type": "code",
   "execution_count": null,
   "metadata": {},
   "outputs": [],
   "source": [
    "knowledge_base = BedrockKnowledgeBase(\n",
    "    kb_name=f'{knowledge_base_name}',\n",
    "    kb_description=knowledge_base_description,\n",
    "    data_sources=data_sources,\n",
    "    chunking_strategy = \"FIXED_SIZE\", \n",
    "    suffix = f'{suffix}-f'\n",
    ")"
   ]
  },
  {
   "cell_type": "markdown",
   "metadata": {},
   "source": [
    "### Start ingestion job\n",
    "Once the KB and data source created, we can start the ingestion job for the data source. During the ingestion job, KB will fetch the documents in the data source, pre-process it to extract text, chunk it based on the chunking size provided, create embeddings of each chunk and then write it to the vector database, in this case OSS."
   ]
  },
  {
   "cell_type": "code",
   "execution_count": null,
   "metadata": {},
   "outputs": [],
   "source": [
    "# ensure that the kb is available\n",
    "time.sleep(30)\n",
    "# sync knowledge base\n",
    "knowledge_base.start_ingestion_job()\n",
    "# keep the kb_id for invocation later in the invoke request\n",
    "kb_id = knowledge_base.get_knowledge_base_id()"
   ]
  },
  {
   "cell_type": "markdown",
   "metadata": {},
   "source": [
    "### Test the Knowledge Base\n",
    "We can now test the Knowledge Base to verify the documents have been ingested properly."
   ]
  },
  {
   "cell_type": "code",
   "execution_count": null,
   "metadata": {},
   "outputs": [],
   "source": [
    "query = \"How to install sunpower X?\"\n",
    "foundation_model = \"anthropic.claude-3-5-sonnet-20240620-v1:0\"\n",
    "\n",
    "response = bedrock_agent_runtime_client.retrieve_and_generate(\n",
    "    input={\n",
    "        \"text\": query\n",
    "    },\n",
    "    retrieveAndGenerateConfiguration={\n",
    "        \"type\": \"KNOWLEDGE_BASE\",\n",
    "        \"knowledgeBaseConfiguration\": {\n",
    "            'knowledgeBaseId': kb_id,\n",
    "            \"modelArn\": \"arn:aws:bedrock:{}::foundation-model/{}\".format(region, foundation_model),\n",
    "            \"retrievalConfiguration\": {\n",
    "                \"vectorSearchConfiguration\": {\n",
    "                    \"numberOfResults\":5\n",
    "                } \n",
    "            }\n",
    "        }\n",
    "    }\n",
    ")\n",
    "\n",
    "print(response['output']['text'],end='\\n'*2)"
   ]
  },
  {
   "cell_type": "code",
   "execution_count": null,
   "metadata": {},
   "outputs": [],
   "source": [
    "os.environ['AWS_REGION'] = region\n",
    "os.environ['KNOWLEDGE_BASE_ID'] = kb_id\n",
    "os.environ['MIN_SCORE'] = \"0.1\""
   ]
  },
  {
   "cell_type": "markdown",
   "metadata": {},
   "source": [
    "##  Create Amazon Bedrock Guardrail\n",
    "\n",
    "Now we'll create a guardrail for our Solar Panel Customer Support agent to ensure safe and appropriate responses."
   ]
  },
  {
   "cell_type": "code",
   "execution_count": null,
   "metadata": {},
   "outputs": [],
   "source": [
    "guardrail_name=f\"customer-support-{suffix}\"\n",
    "guardrail_description=\"This guardrail is for a Solar Panel Customer support agent to avoid unsafe, violations or investment conversations\""
   ]
  },
  {
   "cell_type": "code",
   "execution_count": null,
   "metadata": {},
   "outputs": [],
   "source": [
    "try:\n",
    "    # Check if guardrail already exists\n",
    "    guardrail_exists = False\n",
    "    existing_guardrail_id = None\n",
    "    \n",
    "    response = bedrock_client.list_guardrails(maxResults=100)\n",
    "    for guardrail in response.get('guardrails', []):\n",
    "        if guardrail.get('name') == guardrail_name:\n",
    "            guardrail_exists = True\n",
    "            existing_guardrail_id = guardrail.get(\"id\")\n",
    "            break\n",
    "    \n",
    "    # If guardrail exists, delete it to recreate\n",
    "    if guardrail_exists:\n",
    "        print(f\"Guardrail {guardrail_name} already exists, deleting it to recreate...\")\n",
    "        bedrock_client.delete_guardrail(guardrailIdentifier=existing_guardrail_id)\n",
    "        time.sleep(30)  # Wait for deletion to complete\n",
    "    \n",
    "    # Create new guardrail\n",
    "    print(f\"Creating guardrail {guardrail_name}...\")\n",
    "    response = bedrock_client.create_guardrail(\n",
    "    name='customer-support-guardrail',\n",
    "    description='Prevents the model from providing fiduciary advice.',\n",
    "    topicPolicyConfig={\n",
    "        'topicsConfig': [\n",
    "            {\n",
    "                'name': 'Fiduciary Advice',\n",
    "                'definition': 'Providing personalized advice or recommendations on managing financial assets, investments, or trusts in a fiduciary capacity or assuming related obligations and liabilities.',\n",
    "                'examples': [\n",
    "                    'What stocks should I invest in for my retirement?',\n",
    "                    'Is it a good idea to put my money in a mutual fund?',\n",
    "                    'How should I allocate my 401(k) investments?',\n",
    "                    'What type of trust fund should I set up for my children?',\n",
    "                    'Should I hire a financial advisor to manage my investments?'\n",
    "                ],\n",
    "                'type': 'DENY'\n",
    "            }\n",
    "        ]\n",
    "    },\n",
    "    contentPolicyConfig={\n",
    "        'filtersConfig': [\n",
    "            {\n",
    "                'type': 'SEXUAL',\n",
    "                'inputStrength': 'HIGH',\n",
    "                'outputStrength': 'HIGH'\n",
    "            },\n",
    "            {\n",
    "                'type': 'VIOLENCE',\n",
    "                'inputStrength': 'HIGH',\n",
    "                'outputStrength': 'HIGH'\n",
    "            },\n",
    "            {\n",
    "                'type': 'HATE',\n",
    "                'inputStrength': 'HIGH',\n",
    "                'outputStrength': 'HIGH'\n",
    "            },\n",
    "            {\n",
    "                'type': 'INSULTS',\n",
    "                'inputStrength': 'HIGH',\n",
    "                'outputStrength': 'HIGH'\n",
    "            },\n",
    "            {\n",
    "                'type': 'MISCONDUCT',\n",
    "                'inputStrength': 'HIGH',\n",
    "                'outputStrength': 'HIGH'\n",
    "            },\n",
    "            {\n",
    "                'type': 'PROMPT_ATTACK',\n",
    "                'inputStrength': 'HIGH',\n",
    "                'outputStrength': 'NONE'\n",
    "            }\n",
    "        ]\n",
    "    },\n",
    "    wordPolicyConfig={\n",
    "        'wordsConfig': [\n",
    "            {'text': 'fiduciary advice'},\n",
    "            {'text': 'investment recommendations'},\n",
    "            {'text': 'stock picks'},\n",
    "            {'text': 'financial planning guidance'},\n",
    "            {'text': 'portfolio allocation advice'},\n",
    "            {'text': 'retirement fund suggestions'},\n",
    "            {'text': 'wealth management tips'},\n",
    "            {'text': 'trust fund setup'},\n",
    "            {'text': 'investment strategy'},\n",
    "            {'text': 'financial advisor recommendations'}\n",
    "        ],\n",
    "        'managedWordListsConfig': [\n",
    "            {\n",
    "                'type': 'PROFANITY'\n",
    "            }\n",
    "        ]\n",
    "    },\n",
    "    blockedInputMessaging='I apologize, but I am not able to provide an answer to that question.',\n",
    "    blockedOutputsMessaging='I apologize, but I am not able to provide an answer to that question.',\n",
    ")\n",
    "    \n",
    "    guardrail_id = response['guardrailId']\n",
    "    guardrail_version = response['version']\n",
    "    \n",
    "    print(f\"Successfully created guardrail with ID {guardrail_id} and version {guardrail_version}\")\n",
    "    \n",
    "except Exception as e:\n",
    "    print(f\"Error creating guardrail: {e}\")"
   ]
  },
  {
   "cell_type": "markdown",
   "metadata": {},
   "source": [
    "## Test the Guardrail\n",
    "\n",
    "Let's test our guardrail to ensure it's working properly."
   ]
  },
  {
   "cell_type": "code",
   "execution_count": null,
   "metadata": {},
   "outputs": [],
   "source": [
    "# Test function to check if input/output is blocked by guardrail\n",
    "def test_guardrail(text, source_type='INPUT'):\n",
    "      response = bedrock_runtime.apply_guardrail(\n",
    "          guardrailIdentifier=guardrail_id,\n",
    "          guardrailVersion=guardrail_version,\n",
    "          source=source_type,  # can be 'INPUT' or 'OUTPUT'\n",
    "          content=[{\"text\": {\"text\": text}}]\n",
    "      )\n",
    "\n",
    "      # New response format uses different fields\n",
    "      print(f\"Action: {response.get('action')}\")\n",
    "      print(f\"Action Reason: {response.get('actionReason', 'None')}\")\n",
    "\n",
    "      # Check if content was blocked\n",
    "      is_blocked = response.get('action') == 'GUARDRAIL_INTERVENED'\n",
    "      print(f\"Content {source_type} blocked: {is_blocked}\")\n",
    "\n",
    "      if is_blocked:\n",
    "          # Print topic policies that were triggered\n",
    "          assessments = response.get('assessments', [])\n",
    "          if assessments and 'topicPolicy' in assessments[0]:\n",
    "              print(\"Blocked topics:\", [topic.get('name') for topic in\n",
    "  assessments[0]['topicPolicy'].get('topics', [])\n",
    "                                       if topic.get('action') == 'BLOCKED'])\n",
    "\n",
    "          # Print the modified output if available\n",
    "          if 'outputs' in response and response['outputs']:\n",
    "              print(\"Modified content:\", response['outputs'][0].get('text', 'None'))\n",
    "\n",
    "      return response\n",
    "\n",
    "\n",
    "# Test input that should be blocked\n",
    "print(\"\\nTesting input that should be blocked:\")\n",
    "test_guardrail(\"What stocks should I invest in for my retirement?\")\n",
    "\n",
    "\n",
    "# Test input that should be not be blocked\n",
    "print(\"\\nTesting input that should be blocked:\")\n",
    "test_guardrail(\"How do I maintain my Sunpower X solar panel?\")"
   ]
  },
  {
   "cell_type": "markdown",
   "metadata": {},
   "source": [
    "##  Save Configuration for Agent Setup\n",
    "\n",
    "Save the configuration details to be used later when setting up the Solar Panel Customer Support agent."
   ]
  },
  {
   "cell_type": "code",
   "execution_count": null,
   "metadata": {},
   "outputs": [],
   "source": [
    "# Create configuration dictionary\n",
    "config = {\n",
    "    \"guardrail\": {\n",
    "        \"id\": guardrail_id,\n",
    "        \"version\": guardrail_version,\n",
    "        \"name\": guardrail_name,\n",
    "    },\n",
    "    \"knowledge_base\": {\n",
    "        \"id\": kb_id,\n",
    "        \"name\": knowledge_base_name,\n",
    "    },\n",
    "    \"region\": region\n",
    "}\n",
    "\n",
    "# Save configuration to file\n",
    "config_path = \"solar_panel_support_config.json\"\n",
    "with open(config_path, 'w') as f:\n",
    "    json.dump(config, f, indent=2)\n",
    "    \n",
    "print(f\"Configuration saved to {config_path}\")"
   ]
  },
  {
   "cell_type": "markdown",
   "metadata": {},
   "source": [
    "## Set up Amazon DynamoDB for Customer Profiles\n",
    "\n",
    "In this section, we'll set up a Amazon DynamoDB table to store customer profile information. This will allow our Solar Panel Customer Support agent to retrieve and update customer information during support conversations."
   ]
  },
  {
   "cell_type": "code",
   "execution_count": null,
   "metadata": {},
   "outputs": [],
   "source": [
    "import sys\n",
    "sys.path.append('utils')\n",
    "\n",
    "# Now let's set up the DynamoDB table for customer profiles\n",
    "# This uses the script we created in utils/customer_dynamodb.py\n",
    "from customer_dynamodb import SolarCustomerDynamoDB\n",
    "\n",
    "# Initialize the DynamoDB helper\n",
    "db = SolarCustomerDynamoDB()\n",
    "\n",
    "# Check if the table already exists both in SSM and in DynamoDB\n",
    "existing_table_name = db.get_table_name_from_ssm()\n",
    "table_exists = False\n",
    "if existing_table_name:\n",
    "    # Verify the table actually exists in DynamoDB\n",
    "    table_exists = db.table_exists(existing_table_name)\n",
    "    \n",
    "if table_exists:\n",
    "    print(f\"✅ Customer profile table '{existing_table_name}' already exists.\")\n",
    "else:\n",
    "    # Table doesn't exist yet, create it and populate with data\n",
    "    # If we found a parameter but table doesn't exist, we'll create a new one\n",
    "    table_name = f\"SolarCustomerProfiles-{suffix}\"\n",
    "    print(f\"Creating table '{table_name}'...\")\n",
    "    \n",
    "    # Create the DynamoDB table\n",
    "    table = db.create_table(table_name)\n",
    "    \n",
    "    # Generate synthetic customer profiles directly in DynamoDB\n",
    "    print(\"Generating synthetic customer profiles...\")\n",
    "    customer_ids = db.generate_synthetic_profiles(count=10, table_name=table_name)\n",
    "    print(f\"✅ Successfully created and populated table with {len(customer_ids)} customer profiles\")\n",
    "    \n",
    "    # Test by retrieving one profile\n",
    "    sample_customer = db.get_profile_by_id(customer_ids[0], table_name)\n",
    "    if sample_customer:\n",
    "        print(f\"Sample customer: {sample_customer['name']} from {sample_customer['country']}\")\n",
    "\n",
    "# Add the DynamoDB table name to our configuration\n",
    "config[\"customer_table\"] = existing_table_name if table_exists else table_name\n",
    "with open(config_path, 'w') as f:\n",
    "    json.dump(config, f, indent=2)\n",
    "    \n",
    "print(f\"Updated configuration with customer table information\")"
   ]
  },
  {
   "cell_type": "markdown",
   "metadata": {},
   "source": [
    "## Summary\n",
    "\n",
    "In this notebook, we have successfully:\n",
    "\n",
    "1. Created a Knowledge Base for solar panel installation and maintenance information\n",
    "2. Uploaded solar panel documentation to the Knowledge Base\n",
    "3. Created a Guardrail to ensure safe and appropriate responses\n",
    "4. Tested both the Knowledge Base and Guardrail to confirm they're working properly\n",
    "5. Saved the configuration for future use when setting up the Solar Panel Customer Support agent\n",
    "\n",
    "The next steps would be to create the Solar Panel Customer Support agent itself, which will utilize this Amazon Bedrock Knowledge Base, Guardrail and DynamoDB Database."
   ]
  },
  {
   "cell_type": "markdown",
   "metadata": {},
   "source": [
    "Now we have set up all the components needed for our Solar Panel Customer Support agent:\n",
    "\n",
    "1. Amazon Bedrock Knowledge Base - Contains solar panel manuals and documentation\n",
    "2. Amazon Bedrock Guardrail -  Safeguards and maintains appropriate responses and content filtering\n",
    "3. Amazon DynamoDB Table - Stores customer profile information\n",
    "\n",
    "These resources are ready to be used by our agent implementation."
   ]
  }
 ],
 "metadata": {
  "kernelspec": {
   "display_name": "Python 3 (ipykernel)",
   "language": "python",
   "name": "python3"
  },
  "language_info": {
   "codemirror_mode": {
    "name": "ipython",
    "version": 3
   },
   "file_extension": ".py",
   "mimetype": "text/x-python",
   "name": "python",
   "nbconvert_exporter": "python",
   "pygments_lexer": "ipython3",
   "version": "3.11.11"
  }
 },
 "nbformat": 4,
 "nbformat_minor": 4
}
